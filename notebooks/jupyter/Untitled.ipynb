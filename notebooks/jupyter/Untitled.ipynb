{
 "cells": [
  {
   "cell_type": "code",
   "execution_count": 1,
   "id": "43d04f8b-2246-4a98-b83f-446aa671fef0",
   "metadata": {},
   "outputs": [],
   "source": [
    "#include <limits>\n",
    "#include <cmath>\n",
    "#include <eigen3/Eigen/Core>\n",
    "#include <iostream>"
   ]
  },
  {
   "cell_type": "code",
   "execution_count": 2,
   "id": "beba3101-7736-4b92-bdc5-35ec04c51174",
   "metadata": {},
   "outputs": [],
   "source": [
    "template<class T>\n",
    "using LVector = Eigen::Matrix<T,4,1>;"
   ]
  },
  {
   "cell_type": "code",
   "execution_count": 24,
   "id": "fcaf4054-b7e0-4649-922d-a9a17e1f0b65",
   "metadata": {},
   "outputs": [],
   "source": [
    "LVector<double> w = {1.0,2.0,3.0,4.0};"
   ]
  },
  {
   "cell_type": "code",
   "execution_count": 31,
   "id": "0f8715a4-0a82-4655-9b9c-3a3a6257d259",
   "metadata": {},
   "outputs": [
    {
     "name": "stdout",
     "output_type": "stream",
     "text": [
      "(double) 2.0000000\n"
     ]
    }
   ],
   "source": [
    "w(100) = 2"
   ]
  },
  {
   "cell_type": "code",
   "execution_count": 32,
   "id": "aabe72b5-ce7f-4451-bb88-97b5b9b0628e",
   "metadata": {},
   "outputs": [
    {
     "name": "stdout",
     "output_type": "stream",
     "text": [
      "(Eigen::LVector<double> &) { 1.0000000, 2.0000000, 3.0000000, 4.0000000 }\n"
     ]
    }
   ],
   "source": [
    "w"
   ]
  },
  {
   "cell_type": "code",
   "execution_count": 23,
   "id": "bf91e53f-f88e-452d-9e10-6b8de6372ad8",
   "metadata": {},
   "outputs": [
    {
     "name": "stdout",
     "output_type": "stream",
     "text": [
      "(Eigen::CwiseNullaryOp<Eigen::internal::scalar_constant_op<double>, Eigen::Matrix<double, 4, 1, 0, 4, 1> > &) { 1.0000000, 1.0000000, 1.0000000, 1.0000000 }\n"
     ]
    }
   ],
   "source": [
    "w = LVe"
   ]
  },
  {
   "cell_type": "code",
   "execution_count": 21,
   "id": "4ad8e5f2-a1c9-4afd-902d-88f717f005f3",
   "metadata": {},
   "outputs": [
    {
     "name": "stdout",
     "output_type": "stream",
     "text": [
      "(double) 1.0000000\n"
     ]
    }
   ],
   "source": [
    "v(4)"
   ]
  },
  {
   "cell_type": "code",
   "execution_count": 50,
   "id": "64205c37-55c1-48f4-ac12-5fdba7079673",
   "metadata": {},
   "outputs": [
    {
     "name": "stdout",
     "output_type": "stream",
     "text": [
      "(double) -3.0000000\n"
     ]
    }
   ],
   "source": [
    "v(0) * v(0) - v.segment(1, v.rows() - 1).squaredNorm()\n"
   ]
  },
  {
   "cell_type": "code",
   "execution_count": 47,
   "id": "d87f0a40-d522-4d35-b8b9-db57eec053fe",
   "metadata": {},
   "outputs": [
    {
     "name": "stdout",
     "output_type": "stream",
     "text": [
      "(double) 4.0000000\n"
     ]
    }
   ],
   "source": [
    "w.squaredNorm()"
   ]
  },
  {
   "cell_type": "code",
   "execution_count": 38,
   "id": "612e9bf0-7ca8-4085-8500-2a3f2a35b9fe",
   "metadata": {},
   "outputs": [],
   "source": [
    "auto x = v(0);"
   ]
  },
  {
   "cell_type": "code",
   "execution_count": 49,
   "id": "a6204210-35f3-452f-ad78-99cbe305e5c3",
   "metadata": {},
   "outputs": [
    {
     "name": "stdout",
     "output_type": "stream",
     "text": [
      "(long) 4\n"
     ]
    }
   ],
   "source": [
    "w.rows()"
   ]
  },
  {
   "cell_type": "code",
   "execution_count": 25,
   "id": "4ac7f255-e496-4cba-88ad-d9df135c9500",
   "metadata": {},
   "outputs": [
    {
     "name": "stdout",
     "output_type": "stream",
     "text": [
      "(double) 0.70710678\n"
     ]
    }
   ],
   "source": [
    "M_SQRT1_2"
   ]
  },
  {
   "cell_type": "code",
   "execution_count": 26,
   "id": "9a1b9db2-5aa4-49f7-a4b0-8e9351d28291",
   "metadata": {},
   "outputs": [
    {
     "name": "stdout",
     "output_type": "stream",
     "text": [
      "(double) 0.70710678\n"
     ]
    }
   ],
   "source": [
    "1.0 / std::sqrt(2.0)"
   ]
  },
  {
   "cell_type": "code",
   "execution_count": 10,
   "id": "98740dd8-2349-4c4d-bfec-2d6e1cd85c13",
   "metadata": {},
   "outputs": [
    {
     "name": "stdout",
     "output_type": "stream",
     "text": [
      "(double) 4.9406565e-324\n"
     ]
    }
   ],
   "source": [
    "std::numeric_limits<double>::denorm_min()"
   ]
  },
  {
   "cell_type": "code",
   "execution_count": 28,
   "id": "be55e3f0-5f9d-4c22-99ae-5bbadbcb3a2d",
   "metadata": {},
   "outputs": [
    {
     "name": "stdout",
     "output_type": "stream",
     "text": [
      "(int) 2\n"
     ]
    }
   ],
   "source": [
    "std::fpclassify(0.0) & FP_SUBNORMAL"
   ]
  },
  {
   "cell_type": "code",
   "execution_count": 19,
   "id": "bfafbf6c-e33d-447b-acc7-7954a96d5fa7",
   "metadata": {},
   "outputs": [
    {
     "name": "stdout",
     "output_type": "stream",
     "text": [
      "(int) 4\n"
     ]
    }
   ],
   "source": [
    "FP_NORMAL"
   ]
  },
  {
   "cell_type": "code",
   "execution_count": 13,
   "id": "6fe31054-5069-416f-915d-047b085d4275",
   "metadata": {},
   "outputs": [
    {
     "name": "stdout",
     "output_type": "stream",
     "text": [
      "(int) 3\n"
     ]
    }
   ],
   "source": [
    "FP_SUBNORMAL"
   ]
  },
  {
   "cell_type": "code",
   "execution_count": 36,
   "id": "8a2d0845-9cfc-4aa5-b3f0-86ce3d0f15b5",
   "metadata": {},
   "outputs": [
    {
     "name": "stdout",
     "output_type": "stream",
     "text": [
      "(double) 2.9789691\n"
     ]
    }
   ],
   "source": [
    "1385.9976056176997 / 465.26081633771713"
   ]
  },
  {
   "cell_type": "code",
   "execution_count": 37,
   "id": "58aa6932-7053-4035-8a92-e51a513a2ab5",
   "metadata": {},
   "outputs": [
    {
     "name": "stdout",
     "output_type": "stream",
     "text": [
      "(double) 2.5020888\n"
     ]
    }
   ],
   "source": [
    "2.6036515241623087e-16 / 1.0405911570128837e-16"
   ]
  },
  {
   "cell_type": "code",
   "execution_count": 39,
   "id": "59309038-9e2e-4838-8f8d-52ca2657644c",
   "metadata": {},
   "outputs": [
    {
     "name": "stdout",
     "output_type": "stream",
     "text": [
      "(double) 0.14169552\n"
     ]
    }
   ],
   "source": [
    "3.6804949481213714e-19/2.5974673866139655e-16 * 100"
   ]
  },
  {
   "cell_type": "code",
   "execution_count": null,
   "id": "4ee5ded6-ddef-4daf-a37c-e4f3c44abbdf",
   "metadata": {},
   "outputs": [],
   "source": []
  }
 ],
 "metadata": {
  "kernelspec": {
   "display_name": "ROOT C++",
   "language": "c++",
   "name": "root"
  },
  "language_info": {
   "codemirror_mode": "text/x-c++src",
   "file_extension": ".C",
   "mimetype": " text/x-c++src",
   "name": "c++"
  }
 },
 "nbformat": 4,
 "nbformat_minor": 5
}
