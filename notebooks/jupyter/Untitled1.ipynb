{
 "cells": [
  {
   "cell_type": "code",
   "execution_count": 1,
   "id": "bff6cb8a-c6bb-43a5-9c19-82906c3cd9f3",
   "metadata": {},
   "outputs": [],
   "source": [
    "using Haliax"
   ]
  },
  {
   "cell_type": "code",
   "execution_count": 2,
   "id": "3e2ea6aa-3d6d-4724-a0c6-073a1928a24d",
   "metadata": {},
   "outputs": [],
   "source": [
    "using HELAS"
   ]
  },
  {
   "cell_type": "code",
   "execution_count": 11,
   "id": "fa192030-68a8-406a-93d7-99776aa1687a",
   "metadata": {},
   "outputs": [
    {
     "name": "stdout",
     "output_type": "stream",
     "text": [
      "(vxxxxx(k, 0.0, 1, -1))[1:4] = ComplexF64[0.0 + 0.0im, -0.7071067811865476 + 0.0im, 0.0 - 0.7071067811865476im, 0.0 + 0.0im]\n",
      "(vxxxxx(k, 0.0, -1, -1))[1:4] = ComplexF64[0.0 + 0.0im, 0.7071067811865476 + 0.0im, 0.0 - 0.7071067811865476im, -0.0 + 0.0im]\n"
     ]
    }
   ],
   "source": [
    "k = LVector(1.0,0.0,0.0,1.0)\n",
    "\n",
    "@show vxxxxx(k, 0.0, 1, -1)[1:4]\n",
    "@show vxxxxx(k, 0.0, -1, -1)[1:4];"
   ]
  },
  {
   "cell_type": "code",
   "execution_count": 13,
   "id": "bc384552-7796-47ee-9687-b0e90b21a309",
   "metadata": {},
   "outputs": [
    {
     "data": {
      "text/plain": [
       "2.9790435249865665"
      ]
     },
     "execution_count": 13,
     "metadata": {},
     "output_type": "execute_result"
    }
   ],
   "source": [
    "1386 / 465.25"
   ]
  },
  {
   "cell_type": "code",
   "execution_count": null,
   "id": "f6f2f538-803b-451f-a43a-a50b3a60eba4",
   "metadata": {},
   "outputs": [],
   "source": []
  }
 ],
 "metadata": {
  "kernelspec": {
   "display_name": "Julia 1.6.2",
   "language": "julia",
   "name": "julia-1.6"
  },
  "language_info": {
   "file_extension": ".jl",
   "mimetype": "application/julia",
   "name": "julia",
   "version": "1.6.3"
  }
 },
 "nbformat": 4,
 "nbformat_minor": 5
}
